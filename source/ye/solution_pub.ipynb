{
 "cells": [
  {
   "cell_type": "code",
   "execution_count": null,
   "id": "8acefbf6",
   "metadata": {},
   "outputs": [],
   "source": [
    "import random"
   ]
  },
  {
   "cell_type": "code",
   "execution_count": null,
   "id": "0dfa178a",
   "metadata": {
    "title": "Functions"
   },
   "outputs": [],
   "source": [
    "\n",
    "\n",
    "def rand_step(x, d, ymax, wrap=True):\n",
    "    \"\"\"Returns the sum of x and a random float between -d and d\"\"\"\n",
    "    step = random.uniform(-d, d)\n",
    "    y = x + step\n",
    "    if wrap:\n",
    "        if y > ymax:\n",
    "            y = y - ymax\n",
    "        elif y < 0:\n",
    "            y = ymax + y\n",
    "    else:\n",
    "        if y > ymax:\n",
    "            y = ymax\n",
    "        elif y < 0:\n",
    "            y = 0\n",
    "    return y\n",
    "\n",
    "\n",
    "def rand_steps(x0, d, ymax, n, wrap=True):\n",
    "    \"\"\"Returns a list of n floats sequentially stepped from x0\"\"\"\n",
    "    values = [x0]\n",
    "    for i in range(0, n):\n",
    "        values.append(rand_step(values[-1], d, ymax, wrap=wrap))\n",
    "    return values\n",
    "\n",
    "\n",
    "def print_slider(k, x):\n",
    "    \"\"\"Prints k '-' characters except for that with index\n",
    "    closest to x, which prints |\n",
    "    \"\"\"\n",
    "    x_rounded = round(x)\n",
    "    if x_rounded < 0:\n",
    "        x_rounded = 0  # Coerce to 0\n",
    "    elif x_rounded > k:\n",
    "        x_rounded = k - 1  # Coerce to max index\n",
    "    for i in range(0, k):\n",
    "        if i == x_rounded:\n",
    "            print(\"|\", end=\"\")\n",
    "        else:\n",
    "            print(\"-\", end=\"\")\n",
    "    print(\"\")  # Line break applied\n",
    "\n",
    "\n",
    "def rand_sliders(n, k, x0=None, d=3, wrap=True):\n",
    "    \"\"\"Prints n random sliders with k characters\"\"\"\n",
    "    if not x0:\n",
    "        x0 = k / 2  # Start in the middle\n",
    "    values = rand_steps(\n",
    "        x0,  # Initial value\n",
    "        d,  # Max step size\n",
    "        ymax=k - 1,  # Subtract 1 because 0-indexed\n",
    "        n=n,  # One value per slider\n",
    "        wrap=wrap,  # Pass wrap\n",
    "    )\n",
    "    for x in values:\n",
    "        print_slider(k, x)"
   ]
  },
  {
   "cell_type": "code",
   "execution_count": null,
   "id": "902d8196",
   "metadata": {
    "title": "Call Functions and Print"
   },
   "outputs": [],
   "source": [
    "\n",
    "print(\"rand_sliders(25, 44, x0=2, wrap=True):\")\n",
    "rand_sliders(25, 44, x0=2, wrap=True)\n",
    "print(\"rand_sliders(20, 44, x0=42, d=5, wrap=False):\")\n",
    "rand_sliders(20, 44, x0=42, d=5, wrap=False)"
   ]
  }
 ],
 "metadata": {
  "jupytext": {
   "cell_metadata_filter": "title,-all",
   "main_language": "python",
   "notebook_metadata_filter": "-all"
  }
 },
 "nbformat": 4,
 "nbformat_minor": 5
}
