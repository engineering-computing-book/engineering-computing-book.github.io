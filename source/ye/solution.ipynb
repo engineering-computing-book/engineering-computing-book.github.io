{
 "cells": [
  {
   "cell_type": "markdown",
   "id": "b6da6564",
   "metadata": {
    "lines_to_next_cell": 0
   },
   "source": [
    "# Packages"
   ]
  },
  {
   "cell_type": "code",
   "execution_count": null,
   "id": "79012517",
   "metadata": {
    "lines_to_next_cell": 1
   },
   "outputs": [],
   "source": [
    "import random"
   ]
  },
  {
   "cell_type": "markdown",
   "id": "94578115",
   "metadata": {
    "lines_to_next_cell": 0
   },
   "source": [
    "# Functions"
   ]
  },
  {
   "cell_type": "code",
   "execution_count": null,
   "id": "855ee22e",
   "metadata": {},
   "outputs": [],
   "source": [
    "def rand_step(x, d, ymax, wrap=True):\n",
    "    \"\"\"Returns the sum of x and a random float between -d and d\"\"\"\n",
    "    step = random.uniform(-d, d)\n",
    "    y = x + step\n",
    "    if wrap:\n",
    "        if y > ymax:\n",
    "            y = y - ymax\n",
    "        elif y < 0:\n",
    "            y = ymax + y\n",
    "    else:\n",
    "        if y > ymax:\n",
    "            y = ymax\n",
    "        elif y < 0:\n",
    "            y = 0\n",
    "    return y\n",
    "\n",
    "\n",
    "def rand_steps(x0, d, ymax, n, wrap=True):\n",
    "    \"\"\"Returns a list of n floats sequentially stepped from x0\"\"\"\n",
    "    values = [x0]\n",
    "    for i in range(0, n):\n",
    "        values.append(rand_step(values[-1], d, ymax, wrap=wrap))\n",
    "    return values\n",
    "\n",
    "\n",
    "def print_slider(k, x):\n",
    "    \"\"\"Prints k '-' characters except for that with index\n",
    "    closest to x, which prints |\n",
    "    \"\"\"\n",
    "    x_rounded = round(x)\n",
    "    if x_rounded < 0:\n",
    "        x_rounded = 0  # Coerce to 0\n",
    "    elif x_rounded > k:\n",
    "        x_rounded = k - 1  # Coerce to max index\n",
    "    for i in range(0, k):\n",
    "        if i == x_rounded:\n",
    "            print(\"|\", end=\"\")\n",
    "        else:\n",
    "            print(\"-\", end=\"\")\n",
    "    print(\"\")  # Line break applied\n",
    "\n",
    "\n",
    "def rand_sliders(n, k, x0=None, d=3, wrap=True):\n",
    "    \"\"\"Prints n random sliders with k characters\"\"\"\n",
    "    if not x0:\n",
    "        x0 = k / 2  # Start in the middle\n",
    "    values = rand_steps(\n",
    "        x0,  # Initial value\n",
    "        d,  # Max step size\n",
    "        ymax=k - 1,  # Subtract 1 because 0-indexed\n",
    "        n=n,  # One value per slider\n",
    "        wrap=wrap,  # Pass wrap\n",
    "    )\n",
    "    for x in values:\n",
    "        print_slider(k, x)"
   ]
  },
  {
   "cell_type": "markdown",
   "id": "96630db6",
   "metadata": {
    "lines_to_next_cell": 0
   },
   "source": [
    "# Call Functions and Print"
   ]
  },
  {
   "cell_type": "code",
   "execution_count": null,
   "id": "1c640556",
   "metadata": {},
   "outputs": [],
   "source": [
    "print(\"rand_sliders(25, 44, x0=2, wrap=True):\")\n",
    "rand_sliders(25, 44, x0=2, wrap=True)\n",
    "print(\"rand_sliders(20, 44, x0=42, d=5, wrap=False):\")\n",
    "rand_sliders(20, 44, x0=42, d=5, wrap=False)"
   ]
  },
  {
   "cell_type": "raw",
   "id": "799ef663",
   "metadata": {
    "tags": [
     "active-py"
    ]
   },
   "source": [
    "import sys\n",
    "\n",
    "sys.path.append(\"../\")\n",
    "import engcom.engcom as engcom\n",
    "\n",
    "pub = engcom.Publication(title=\"Problem YE\", author=\"Rico Picone\")\n",
    "pub.write(to=\"pdf\")"
   ]
  }
 ],
 "metadata": {
  "jupytext": {
   "cell_metadata_filter": "tags,-all",
   "main_language": "python",
   "notebook_metadata_filter": "-all"
  }
 },
 "nbformat": 4,
 "nbformat_minor": 5
}
